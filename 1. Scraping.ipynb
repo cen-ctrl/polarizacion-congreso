{
 "cells": [
  {
   "cell_type": "markdown",
   "metadata": {},
   "source": [
    "<h3>Abriendo una URL</h3>"
   ]
  },
  {
   "cell_type": "code",
   "execution_count": 2,
   "metadata": {},
   "outputs": [],
   "source": [
    "import requests"
   ]
  },
  {
   "cell_type": "markdown",
   "metadata": {},
   "source": [
    "<h2>PDFs del Congreso de los Diputados</h2>\n",
    "\n",
    "Extraemos los archivos desde esta página: https://www.congreso.es/es/busqueda-de-publicaciones"
   ]
  },
  {
   "cell_type": "code",
   "execution_count": 3,
   "metadata": {},
   "outputs": [],
   "source": [
    "url = \"https://www.congreso.es/es/busqueda-de-publicaciones?p_p_id=publicaciones&p_p_lifecycle=2&p_p_state=normal&p_p_mode=view&p_p_resource_id=filtrarListado&p_p_cacheability=cacheLevelPage\"\n",
    "\n",
    "headers = {\n",
    "  \"Accept\": \"application/json, text/javascript, */*; q=0.01\",\n",
    "  \"Accept-Encoding\": \"gzip, deflate, br, zstd\",\n",
    "  \"Accept-Language\": \"es-ES,es;q=0.9,en;q=0.8\",\n",
    "  \"Content-Length\": \"362\",\n",
    "  \"Content-Type\": \"application/x-www-form-urlencoded; charset=UTF-8\",\n",
    "  \"Cookie\": \"GUEST_LANGUAGE_ID=es_ES; COOKIE_SUPPORT=true; mycookieaceptthx=eyJtYW5kYXRvcnkiOnRydWUsInN0YWRpc3RpY3MiOmZhbHNlfQ==; JSESSIONID=7DjdzeZrYZy58MJtHUyNB6ofkDZq_ajTv9f4qvxi.cgdpjbnode1pro; FGMDA3820a653=3850f80e0de9f6eb476c10e25dd2b18b1e3aa2cb748222456a218832c990a32369dfffd6fe0ee70d1d55f8f44d0856e277be4a0d753b76daf35437014af9ba607ebcfaf08d77de79fa1b565d5c7b0578928e0a98d9; LFR_SESSION_STATE_20104=1715621134796\",\n",
    "  \"Origin\": \"https://www.congreso.es\",\n",
    "  \"Priority\": \"u=1, i\",\n",
    "  \"Referer\": \"https://www.congreso.es/es/busqueda-de-publicaciones\",\n",
    "  \"Sec-Ch-Ua\": \"\\\"Chromium\\\";v=\\\"124\\\", \\\"Google Chrome\\\";v=\\\"124\\\", \\\"Not-A.Brand\\\";v=\\\"99\\\"\",\n",
    "  \"Sec-Ch-Ua-Mobile\": \"?0\",\n",
    "  \"Sec-Ch-Ua-Platform\": \"\\\"Windows\\\"\",\n",
    "  \"Sec-Fetch-Dest\": \"empty\",\n",
    "  \"Sec-Fetch-Mode\": \"cors\",\n",
    "  \"Sec-Fetch-Site\": \"same-origin\",\n",
    "  \"User-Agent\": \"Mozilla/5.0 (Windows NT 10.0; Win64; x64) AppleWebKit/537.36 (KHTML, like Gecko) Chrome/124.0.0.0 Safari/537.36\",\n",
    "  \"X-Requested-With\": \"XMLHttpRequest\"\n",
    "}"
   ]
  },
  {
   "cell_type": "code",
   "execution_count": 4,
   "metadata": {},
   "outputs": [
    {
     "name": "stdout",
     "output_type": "stream",
     "text": [
      "200\n"
     ]
    }
   ],
   "source": [
    "page = requests.get(url,headers=headers)\n",
    "print(page.status_code)\n",
    "data = page.json()\n",
    "# Esperamos obtener 200 (Conexión exitosa)"
   ]
  },
  {
   "cell_type": "markdown",
   "metadata": {},
   "source": [
    "<h2>Mandando las solicitudes</h2>\n",
    "\n",
    "Debemos enviar POST requests a la url mencionada con el siguiente Payload:\n",
    "\n",
    "    publicaciones_serie: Pleno\n",
    "    publicaciones_seccion: Congreso\n",
    "    publicaciones_legislatura: n\n",
    "    publicaciones_pagina: m\n",
    "\n",
    "Recibiremos un JSON con un que contiene entradas denominadas :\n",
    "\n",
    "    \"documentoNM\":\n",
    "        \"diario\": ARCHIVO\n",
    "\n",
    "y otras entradas inservibles para la extracción que nos interesa."
   ]
  },
  {
   "cell_type": "code",
   "execution_count": 5,
   "metadata": {},
   "outputs": [
    {
     "name": "stdout",
     "output_type": "stream",
     "text": [
      "200\n",
      "{'documento10': {'texto_integro': '/public_oficiales/L1/CONG/DS/PL/PL_010.PDF', 'fecha': '19790523', 'diario': '/public_oficiales/L1/CONG/DS/PL/PL_010.PDF', 'secc': 'CONGRESO DE LOS DIPUTADOS', 'encabezado': 'DS', 'orga': 'Pleno', 'numdoc': '10', 'publ': 'D', 'mensaje': 'Congreso de los Diputados, Pleno, núm. 10, de 23/05/1979', 'seri': 'Pleno', 'ndia': '10', 'subi': ''}, 'documento20': {'texto_integro': '/public_oficiales/L1/CONG/DS/PL/PL_020.PDF', 'fecha': '19790621', 'diario': '/public_oficiales/L1/CONG/DS/PL/PL_020.PDF', 'secc': 'CONGRESO DE LOS DIPUTADOS', 'encabezado': 'DS', 'orga': 'Pleno', 'numdoc': '20', 'publ': 'D', 'mensaje': 'Congreso de los Diputados, Pleno, núm. 20, de 21/06/1979', 'seri': 'Pleno', 'ndia': '20', 'subi': ''}, 'legislatura': 'I', 'documento14': {'texto_integro': '/public_oficiales/L1/CONG/DS/PL/PL_014.PDF', 'fecha': '19790606', 'diario': '/public_oficiales/L1/CONG/DS/PL/PL_014.PDF', 'secc': 'CONGRESO DE LOS DIPUTADOS', 'encabezado': 'DS', 'orga': 'Pleno', 'numdoc': '14', 'publ': 'D', 'mensaje': 'Congreso de los Diputados, Pleno, núm. 14, de 06/06/1979', 'seri': 'Pleno', 'ndia': '14', 'subi': ''}, 'paginaActual': 1, 'publicaciones_encontradas': '255', 'documento13': {'texto_integro': '/public_oficiales/L1/CONG/DS/PL/PL_013.PDF', 'fecha': '19790531', 'diario': '/public_oficiales/L1/CONG/DS/PL/PL_013.PDF', 'secc': 'CONGRESO DE LOS DIPUTADOS', 'encabezado': 'DS', 'orga': 'Pleno', 'numdoc': '13', 'publ': 'D', 'mensaje': 'Congreso de los Diputados, Pleno, núm. 13, de 31/05/1979', 'seri': 'Pleno', 'ndia': '13', 'subi': ''}, 'documento12': {'texto_integro': '/public_oficiales/L1/CONG/DS/PL/PL_012.PDF', 'fecha': '19790530', 'diario': '/public_oficiales/L1/CONG/DS/PL/PL_012.PDF', 'secc': 'CONGRESO DE LOS DIPUTADOS', 'encabezado': 'DS', 'orga': 'Pleno', 'numdoc': '12', 'publ': 'D', 'mensaje': 'Congreso de los Diputados, Pleno, núm. 12, de 30/05/1979', 'seri': 'Pleno', 'ndia': '12', 'subi': ''}, 'documento11': {'texto_integro': '/public_oficiales/L1/CONG/DS/PL/PL_011.PDF', 'fecha': '19790524', 'diario': '/public_oficiales/L1/CONG/DS/PL/PL_011.PDF', 'secc': 'CONGRESO DE LOS DIPUTADOS', 'encabezado': 'DS', 'orga': 'Pleno', 'numdoc': '11', 'publ': 'D', 'mensaje': 'Congreso de los Diputados, Pleno, núm. 11, de 24/05/1979', 'seri': 'Pleno', 'ndia': '11', 'subi': ''}, 'documento9': {'texto_integro': '/public_oficiales/L1/CONG/DS/PL/PL_009.PDF', 'fecha': '19790516', 'diario': '/public_oficiales/L1/CONG/DS/PL/PL_009.PDF', 'secc': 'CONGRESO DE LOS DIPUTADOS', 'encabezado': 'DS', 'orga': 'Pleno', 'numdoc': '9', 'publ': 'D', 'mensaje': 'Congreso de los Diputados, Pleno, núm. 9, de 16/05/1979', 'seri': 'Pleno', 'ndia': '9', 'subi': ''}, 'documento18': {'texto_integro': '/public_oficiales/L1/CONG/DS/PL/PL_018.PDF', 'fecha': '19790615', 'diario': '/public_oficiales/L1/CONG/DS/PL/PL_018.PDF', 'secc': 'CONGRESO DE LOS DIPUTADOS', 'encabezado': 'DS', 'orga': 'Pleno', 'numdoc': '18', 'publ': 'D', 'mensaje': 'Congreso de los Diputados, Pleno, núm. 18, de 15/06/1979', 'seri': 'Pleno', 'ndia': '18', 'subi': ''}, 'documento8': {'texto_integro': '/public_oficiales/L1/CONG/DS/PL/PL_008.PDF', 'fecha': '19790510', 'diario': '/public_oficiales/L1/CONG/DS/PL/PL_008.PDF', 'secc': 'CONGRESO DE LOS DIPUTADOS', 'encabezado': 'DS', 'orga': 'Pleno', 'numdoc': '8', 'publ': 'D', 'mensaje': 'Congreso de los Diputados, Pleno, núm. 8, de 10/05/1979', 'seri': 'Pleno', 'ndia': '8', 'subi': ''}, 'documento17': {'texto_integro': '/public_oficiales/L1/CONG/DS/PL/PL_017.PDF', 'fecha': '19790613', 'diario': '/public_oficiales/L1/CONG/DS/PL/PL_017.PDF', 'secc': 'CONGRESO DE LOS DIPUTADOS', 'encabezado': 'DS', 'orga': 'Pleno', 'numdoc': '17', 'publ': 'D', 'mensaje': 'Congreso de los Diputados, Pleno, núm. 17, de 13/06/1979', 'seri': 'Pleno', 'ndia': '17', 'subi': ''}, 'documento16': {'texto_integro': '/public_oficiales/L1/CONG/DS/PL/PL_016.PDF', 'fecha': '19790612', 'diario': '/public_oficiales/L1/CONG/DS/PL/PL_016.PDF', 'secc': 'CONGRESO DE LOS DIPUTADOS', 'encabezado': 'DS', 'orga': 'Pleno', 'numdoc': '16', 'publ': 'D', 'mensaje': 'Congreso de los Diputados, Pleno, núm. 16, de 12/06/1979', 'seri': 'Pleno', 'ndia': '16', 'subi': ''}, 'documento15': {'texto_integro': '/public_oficiales/L1/CONG/DS/PL/PL_015.PDF', 'fecha': '19790607', 'diario': '/public_oficiales/L1/CONG/DS/PL/PL_015.PDF', 'secc': 'CONGRESO DE LOS DIPUTADOS', 'encabezado': 'DS', 'orga': 'Pleno', 'numdoc': '15', 'publ': 'D', 'mensaje': 'Congreso de los Diputados, Pleno, núm. 15, de 07/06/1979', 'seri': 'Pleno', 'ndia': '15', 'subi': ''}, 'documento5': {'texto_integro': '/public_oficiales/L1/CONG/DS/PL/PL_005.PDF', 'fecha': '19790503', 'diario': '/public_oficiales/L1/CONG/DS/PL/PL_005.PDF', 'secc': 'CONGRESO DE LOS DIPUTADOS', 'encabezado': 'DS', 'orga': 'Pleno', 'numdoc': '5', 'publ': 'D', 'mensaje': 'Congreso de los Diputados, Pleno, núm. 5, de 03/05/1979', 'seri': 'Pleno', 'ndia': '5', 'subi': ''}, 'documento4': {'texto_integro': '/public_oficiales/L1/CONG/DS/PL/PL_004.PDF', 'fecha': '19790418', 'diario': '/public_oficiales/L1/CONG/DS/PL/PL_004.PDF', 'secc': 'CONGRESO DE LOS DIPUTADOS', 'encabezado': 'DS', 'orga': 'Pleno', 'numdoc': '4', 'publ': 'D', 'mensaje': 'Congreso de los Diputados, Pleno, núm. 4, de 18/04/1979', 'seri': 'Pleno', 'ndia': '4', 'subi': ''}, 'documento7': {'texto_integro': '/public_oficiales/L1/CONG/DS/PL/PL_007.PDF', 'fecha': '19790509', 'diario': '/public_oficiales/L1/CONG/DS/PL/PL_007.PDF', 'secc': 'CONGRESO DE LOS DIPUTADOS', 'encabezado': 'DS', 'orga': 'Pleno', 'numdoc': '7', 'publ': 'D', 'mensaje': 'Congreso de los Diputados, Pleno, núm. 7, de 09/05/1979', 'seri': 'Pleno', 'ndia': '7', 'subi': ''}, 'documento6': {'texto_integro': '/public_oficiales/L1/CONG/DS/PL/PL_006.PDF', 'fecha': '19790509', 'diario': '/public_oficiales/L1/CONG/DS/PL/PL_006.PDF', 'secc': 'CONGRESO DE LOS DIPUTADOS', 'encabezado': 'DS', 'orga': 'Pleno', 'numdoc': '6', 'publ': 'D', 'mensaje': 'Congreso de los Diputados, Pleno, núm. 6, de 09/05/1979', 'seri': 'Pleno', 'ndia': '6', 'subi': ''}, 'documento19': {'texto_integro': '/public_oficiales/L1/CONG/DS/PL/PL_019.PDF', 'fecha': '19790620', 'diario': '/public_oficiales/L1/CONG/DS/PL/PL_019.PDF', 'secc': 'CONGRESO DE LOS DIPUTADOS', 'encabezado': 'DS', 'orga': 'Pleno', 'numdoc': '19', 'publ': 'D', 'mensaje': 'Congreso de los Diputados, Pleno, núm. 19, de 20/06/1979', 'seri': 'Pleno', 'ndia': '19', 'subi': ''}, 'documento1': {'texto_integro': '/public_oficiales/L1/CONG/DS/PL/PL_001.PDF', 'fecha': '19790323', 'diario': '/public_oficiales/L1/CONG/DS/PL/PL_001.PDF', 'secc': 'CONGRESO DE LOS DIPUTADOS', 'encabezado': 'DS', 'orga': 'Pleno', 'numdoc': '1', 'publ': 'D', 'mensaje': 'Congreso de los Diputados, Pleno, núm. 1, de 23/03/1979', 'seri': 'Pleno', 'ndia': '1', 'subi': ''}, 'documento3': {'texto_integro': '/public_oficiales/L1/CONG/DS/PL/PL_003.PDF', 'fecha': '19790330', 'diario': '/public_oficiales/L1/CONG/DS/PL/PL_003.PDF', 'secc': 'CONGRESO DE LOS DIPUTADOS', 'encabezado': 'DS', 'orga': 'Pleno', 'numdoc': '3', 'publ': 'D', 'mensaje': 'Congreso de los Diputados, Pleno, núm. 3, de 30/03/1979', 'seri': 'Pleno', 'ndia': '3', 'subi': ''}, 'documento2': {'texto_integro': '/public_oficiales/L1/CONG/DS/PL/PL_002.PDF', 'fecha': '19790328', 'diario': '/public_oficiales/L1/CONG/DS/PL/PL_002.PDF', 'secc': 'CONGRESO DE LOS DIPUTADOS', 'encabezado': 'DS', 'orga': 'Pleno', 'numdoc': '2', 'publ': 'D', 'mensaje': 'Congreso de los Diputados, Pleno, núm. 2, de 28/03/1979', 'seri': 'Pleno', 'ndia': '2', 'subi': ''}, 'paginacion': {'opdef': 'Y', 'url_base': '/wc/servidorCGI', 'query': '(D).PUBL.+Y+(Congreso).SECC.+Y+(Pleno).ORSE.', 'docs_ini': '1', 'cmd': 'VERLST', 'docorder': 'FIFO', 'docs_fin': '20', 'ftm': 'PUWTZLST', 'base': 'PUF1'}}\n",
      "200\n"
     ]
    }
   ],
   "source": [
    "legislatura = 1\n",
    "pagina = 104321432141\n",
    "\n",
    "url=\"https://www.congreso.es/es/busqueda-de-publicaciones\"\n",
    "\n",
    "payload = {\n",
    "    \"p_p_id\":\"publicaciones\",\n",
    "    \"p_p_lifecycle\": 2,\n",
    "    \"p_p_state\": \"normal\",\n",
    "    \"p_p_mode\": \"view\",\n",
    "    \"p_p_resource_id\": \"filtrarListado\",\n",
    "    \"p_p_cacheability\": \"cacheLevelPage\",\n",
    "    \"_publicaciones_serie\": \"Pleno\",\n",
    "    \"_publicaciones_seccion\": \"Congreso\",\n",
    "    \"_publicaciones_legislatura\": legislatura,\n",
    "    \"_publicaciones_paginaActual\": pagina,\n",
    "    \"_publicaciones_tipoBusqueda\": \"0\",\n",
    "    \"_publicaciones_publicacion\": \"D\"\n",
    "}\n",
    "try:\n",
    "    res = requests.post(url, data=payload, headers=headers)\n",
    "    print(res.status_code)\n",
    "    print(res.json())\n",
    "except requests.ConnectionError as err:\n",
    "    print(err)\n",
    "\n",
    "res = requests.post(url, data=payload, headers=headers)\n",
    "# for el in res.json():\n",
    "#     if \"fecha\" in res.json()[el]:\n",
    "#         print(res.json()[el][\"ndia\"])\n",
    "#         r = requests.get(\"https://congreso.es\"+res.json()[el][\"diario\"])\n",
    "#         file = open(\"L\"+str(legislatura)+\"_\"+str(res.json()[el][\"ndia\"])+\".pdf\", \"wb\")\n",
    "#         file.write(r.content)\n",
    "#         file.close()\n",
    "r = requests.get(\"https://congreso.es/public_oficiales/L1/CONG/DS/PL/PL_010.PDF\", headers=headers)\n",
    "print(r.status_code)\n",
    "file = open(\"descargarauto.pdf\", \"wb\")\n",
    "file.write(r.content)\n",
    "file.close()"
   ]
  },
  {
   "cell_type": "code",
   "execution_count": 6,
   "metadata": {},
   "outputs": [],
   "source": [
    "def makerequest(legislatura):\n",
    "    pag = 0\n",
    "    while True:\n",
    "        pag+=1\n",
    "        print(pag)\n",
    "        payload[\"_publicaciones_paginaActual\"] = pag\n",
    "        payload[\"_publicaciones_legislatura\"] = legislatura\n",
    "        res = requests.post(url, data=payload, headers=headers)\n",
    "        for el in res.json():\n",
    "            if el[0:9] == \"documento\":\n",
    "                if pag > 1 and int(res.json()[el][\"ndia\"]) <= 20:\n",
    "                    return\n",
    "                dir = \"https://www.congreso.es\"+res.json()[el][\"diario\"]\n",
    "                try:\n",
    "                    r = requests.get(dir, headers=headers)\n",
    "                except:\n",
    "                    print(dir)      \n",
    "                with open(\"PL_\"+str(legislatura)+\"_\"+res.json()[el][\"ndia\"]+\".pdf\", \"wb\") as f:\n",
    "                    f.write(r.content)\n"
   ]
  },
  {
   "cell_type": "code",
   "execution_count": 6,
   "metadata": {},
   "outputs": [],
   "source": [
    "dates = dict()"
   ]
  },
  {
   "cell_type": "code",
   "execution_count": 7,
   "metadata": {},
   "outputs": [],
   "source": [
    "def get_dates(legislatura):\n",
    "    pag = 0\n",
    "    while True:\n",
    "        pag+=1\n",
    "        payload[\"_publicaciones_paginaActual\"] = pag\n",
    "        payload[\"_publicaciones_legislatura\"] = legislatura\n",
    "        try:\n",
    "            res = requests.post(url, data=payload, headers=headers)\n",
    "            for el in res.json():\n",
    "                if el[0:9] == \"documento\":\n",
    "                    if pag > 1 and int(res.json()[el][\"ndia\"]) <= 20:\n",
    "                        return\n",
    "                    dates[(legislatura, res.json()[el][\"ndia\"])] = res.json()[el][\"fecha\"]\n",
    "        except:\n",
    "            print(pag, end=\" \")\n",
    "    "
   ]
  },
  {
   "cell_type": "code",
   "execution_count": 8,
   "metadata": {},
   "outputs": [
    {
     "name": "stdout",
     "output_type": "stream",
     "text": [
      "LEGISLATURA  1\n",
      "LEGISLATURA  2\n",
      "LEGISLATURA  3\n",
      "LEGISLATURA  4\n",
      "LEGISLATURA  5\n",
      "LEGISLATURA  6\n",
      "LEGISLATURA  7\n",
      "LEGISLATURA  8\n",
      "LEGISLATURA  9\n",
      "LEGISLATURA  10\n",
      "LEGISLATURA  11\n",
      "LEGISLATURA  12\n",
      "LEGISLATURA  13\n",
      "LEGISLATURA  14\n",
      "LEGISLATURA  15\n"
     ]
    }
   ],
   "source": [
    "for legislatura in range(15):\n",
    "    legislatura+=1\n",
    "    print(\"LEGISLATURA \", legislatura)\n",
    "    get_dates(legislatura)"
   ]
  },
  {
   "cell_type": "code",
   "execution_count": 14,
   "metadata": {},
   "outputs": [],
   "source": [
    "import pandas as pd\n",
    "dates_df = pd.Series(dates)\n",
    "dates_df.to_csv()"
   ]
  }
 ],
 "metadata": {
  "kernelspec": {
   "display_name": "nlp",
   "language": "python",
   "name": "python3"
  },
  "language_info": {
   "codemirror_mode": {
    "name": "ipython",
    "version": 3
   },
   "file_extension": ".py",
   "mimetype": "text/x-python",
   "name": "python",
   "nbconvert_exporter": "python",
   "pygments_lexer": "ipython3",
   "version": "3.12.2"
  }
 },
 "nbformat": 4,
 "nbformat_minor": 2
}
