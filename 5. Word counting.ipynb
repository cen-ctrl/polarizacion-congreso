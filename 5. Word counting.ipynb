{
 "cells": [
  {
   "cell_type": "markdown",
   "metadata": {},
   "source": [
    "<h2>Conteo de palabras</h2>\n",
    "\n",
    "Sobre la base de datos que hemos desarrollado vamos a realizar ciertos análisis mediante el conteo de palabras                                                                 \n",
    "teniendo en cuenta tanto la fecha de cada intervención, como el grupo político y el género de cada diputado.\n",
    "\n",
    "Los análisis que queremos realizar son:\n",
    "    <ul>\n",
    "        <li>La prevalencia de términos relacionados con la crispación, el odio y el conflicto.</li>\n",
    "        <li>La prevalencia de ciertos térmnos femeninos o epicenos frente a su masculino genérico.</li>\n",
    "    </ul>\n",
    "\n",
    "Los métodos que vamos a desarrollar para ello son:\n",
    "    <ul>\n",
    "        <li>El conteo de un grupo de palabras.</li>\n",
    "        <li>El conteo de palabras prefijadas o sufijadas por un cierto morfema.</li>\n",
    "        <li>El conteo de un grupo de palabras respecto a otro.</li>\n",
    "    </ul>"
   ]
  },
  {
   "cell_type": "code",
   "execution_count": 1,
   "metadata": {},
   "outputs": [],
   "source": [
    "import pandas as pd\n",
    "\n",
    "df = pd.read_csv(r\"\")"
   ]
  },
  {
   "cell_type": "code",
   "execution_count": 2,
   "metadata": {},
   "outputs": [
    {
     "data": {
      "text/html": [
       "<div>\n",
       "<style scoped>\n",
       "    .dataframe tbody tr th:only-of-type {\n",
       "        vertical-align: middle;\n",
       "    }\n",
       "\n",
       "    .dataframe tbody tr th {\n",
       "        vertical-align: top;\n",
       "    }\n",
       "\n",
       "    .dataframe thead th {\n",
       "        text-align: right;\n",
       "    }\n",
       "</style>\n",
       "<table border=\"1\" class=\"dataframe\">\n",
       "  <thead>\n",
       "    <tr style=\"text-align: right;\">\n",
       "      <th></th>\n",
       "      <th>text</th>\n",
       "      <th>group</th>\n",
       "      <th>gender</th>\n",
       "      <th>year</th>\n",
       "      <th>mistral_large</th>\n",
       "    </tr>\n",
       "  </thead>\n",
       "  <tbody>\n",
       "    <tr>\n",
       "      <th>0</th>\n",
       "      <td>Señoras y señores Diputados, se abre la sesión...</td>\n",
       "      <td>PP</td>\n",
       "      <td>Male</td>\n",
       "      <td>1979</td>\n",
       "      <td>0</td>\n",
       "    </tr>\n",
       "    <tr>\n",
       "      <th>1</th>\n",
       "      <td>Según la relación que consta en la Secretaría ...</td>\n",
       "      <td>PP</td>\n",
       "      <td>Male</td>\n",
       "      <td>1979</td>\n",
       "      <td>0</td>\n",
       "    </tr>\n",
       "    <tr>\n",
       "      <th>2</th>\n",
       "      <td>Siguiendo el orden del día, ruego al señor Esp...</td>\n",
       "      <td>PSOE</td>\n",
       "      <td>Male</td>\n",
       "      <td>1979</td>\n",
       "      <td>0</td>\n",
       "    </tr>\n",
       "    <tr>\n",
       "      <th>3</th>\n",
       "      <td>Señoras y señores Diputados. en nombre de la M...</td>\n",
       "      <td>PSOE</td>\n",
       "      <td>Male</td>\n",
       "      <td>1979</td>\n",
       "      <td>0</td>\n",
       "    </tr>\n",
       "    <tr>\n",
       "      <th>4</th>\n",
       "      <td>Al reanudarse la sesión, procedería dar lectur...</td>\n",
       "      <td>PSOE</td>\n",
       "      <td>Male</td>\n",
       "      <td>1979</td>\n",
       "      <td>0</td>\n",
       "    </tr>\n",
       "    <tr>\n",
       "      <th>...</th>\n",
       "      <td>...</td>\n",
       "      <td>...</td>\n",
       "      <td>...</td>\n",
       "      <td>...</td>\n",
       "      <td>...</td>\n",
       "    </tr>\n",
       "    <tr>\n",
       "      <th>144204</th>\n",
       "      <td>Muchas gracias, señora presidenta. Buenas tard...</td>\n",
       "      <td>VOX</td>\n",
       "      <td>Male</td>\n",
       "      <td>2024</td>\n",
       "      <td>15</td>\n",
       "    </tr>\n",
       "    <tr>\n",
       "      <th>144205</th>\n",
       "      <td>Muchas gracias, presidenta. Buenas tardes, señ...</td>\n",
       "      <td>PP</td>\n",
       "      <td>Male</td>\n",
       "      <td>2024</td>\n",
       "      <td>30</td>\n",
       "    </tr>\n",
       "    <tr>\n",
       "      <th>144206</th>\n",
       "      <td>Buenas tardes, noches ya, señorías. Probableme...</td>\n",
       "      <td>IU-PODEMOS</td>\n",
       "      <td>Male</td>\n",
       "      <td>2024</td>\n",
       "      <td>22</td>\n",
       "    </tr>\n",
       "    <tr>\n",
       "      <th>144207</th>\n",
       "      <td>Gracias, presidenta. Buenas tardes, señorías. ...</td>\n",
       "      <td>PSOE</td>\n",
       "      <td>Female</td>\n",
       "      <td>2024</td>\n",
       "      <td>9</td>\n",
       "    </tr>\n",
       "    <tr>\n",
       "      <th>144208</th>\n",
       "      <td>La estamos estudiando. Muchas gracias.\\n</td>\n",
       "      <td>VOX</td>\n",
       "      <td>Male</td>\n",
       "      <td>2024</td>\n",
       "      <td>0</td>\n",
       "    </tr>\n",
       "  </tbody>\n",
       "</table>\n",
       "<p>144209 rows × 5 columns</p>\n",
       "</div>"
      ],
      "text/plain": [
       "                                                     text       group  gender  \\\n",
       "0       Señoras y señores Diputados, se abre la sesión...          PP    Male   \n",
       "1       Según la relación que consta en la Secretaría ...          PP    Male   \n",
       "2       Siguiendo el orden del día, ruego al señor Esp...        PSOE    Male   \n",
       "3       Señoras y señores Diputados. en nombre de la M...        PSOE    Male   \n",
       "4       Al reanudarse la sesión, procedería dar lectur...        PSOE    Male   \n",
       "...                                                   ...         ...     ...   \n",
       "144204  Muchas gracias, señora presidenta. Buenas tard...         VOX    Male   \n",
       "144205  Muchas gracias, presidenta. Buenas tardes, señ...          PP    Male   \n",
       "144206  Buenas tardes, noches ya, señorías. Probableme...  IU-PODEMOS    Male   \n",
       "144207  Gracias, presidenta. Buenas tardes, señorías. ...        PSOE  Female   \n",
       "144208           La estamos estudiando. Muchas gracias.\\n         VOX    Male   \n",
       "\n",
       "        year  mistral_large  \n",
       "0       1979              0  \n",
       "1       1979              0  \n",
       "2       1979              0  \n",
       "3       1979              0  \n",
       "4       1979              0  \n",
       "...      ...            ...  \n",
       "144204  2024             15  \n",
       "144205  2024             30  \n",
       "144206  2024             22  \n",
       "144207  2024              9  \n",
       "144208  2024              0  \n",
       "\n",
       "[144209 rows x 5 columns]"
      ]
     },
     "execution_count": 2,
     "metadata": {},
     "output_type": "execute_result"
    }
   ],
   "source": [
    "df"
   ]
  },
  {
   "cell_type": "markdown",
   "metadata": {},
   "source": [
    "<h4>Agrupaciones políticas</h4>\n",
    "\n",
    "Distingimos las diferentes formas de agrupar todos los grupos políticos presentes."
   ]
  },
  {
   "cell_type": "code",
   "execution_count": 3,
   "metadata": {},
   "outputs": [],
   "source": [
    "partidos = [\"VOX\", \"PP\", \"PSOE\", \"IU-PODEMOS\"]\n",
    "partidos_hombres = [agrupacion + \" - Male\" for agrupacion in partidos]\n",
    "partidos_mujeres = [agrupacion + \" - Female\" for agrupacion in partidos]\n",
    "indexes = []\n",
    "\n",
    "for a in partidos:\n",
    "    indexes.append(a)\n",
    "for a in partidos_hombres:\n",
    "    indexes.append(a)\n",
    "for a in partidos_mujeres:\n",
    "    indexes.append(a)"
   ]
  },
  {
   "cell_type": "code",
   "execution_count": 4,
   "metadata": {},
   "outputs": [],
   "source": [
    "years = []\n",
    "year = 1979\n",
    "while (year <= 2024):\n",
    "    years.append(year)\n",
    "    year+=1"
   ]
  },
  {
   "cell_type": "code",
   "execution_count": 5,
   "metadata": {},
   "outputs": [],
   "source": [
    "from collections import Counter\n",
    "import spacy\n",
    "\n",
    "nlp = spacy.load(\"es_core_news_lg\")"
   ]
  },
  {
   "cell_type": "markdown",
   "metadata": {},
   "source": [
    "<h3>Distribución de frecuencias</h3>\n",
    "\n",
    "Organizamos los datos de la siguiente manera:\n",
    "\n",
    "    freq(Grupo político, Legislatura, Palabra) -> Frecuencia\n",
    "\n",
    "    word_number(Grupo político - default=Todos, Legislatura) -> Número"
   ]
  },
  {
   "cell_type": "code",
   "execution_count": 6,
   "metadata": {},
   "outputs": [
    {
     "name": "stdout",
     "output_type": "stream",
     "text": [
      "CPU times: total: 0 ns\n",
      "Wall time: 7.5 ms\n"
     ]
    }
   ],
   "source": [
    "%%time\n",
    "list = []\n",
    "text = df.loc[23, \"text\"].lower()\n",
    "doc = nlp(text)\n",
    "for token in doc:\n",
    "    if not token.is_punct and not token.is_space:\n",
    "        # Convertir a texto en minúsculas y agregar al diccionario\n",
    "        list.append(str(token))"
   ]
  },
  {
   "cell_type": "code",
   "execution_count": 13,
   "metadata": {},
   "outputs": [
    {
     "name": "stdout",
     "output_type": "stream",
     "text": [
      "0.0 % ANALIZADO\n",
      "6.666666666666667 % ANALIZADO\n",
      "13.333333333333334 % ANALIZADO\n",
      "20.0 % ANALIZADO\n",
      "26.666666666666668 % ANALIZADO\n",
      "33.33333333333333 % ANALIZADO\n",
      "40.0 % ANALIZADO\n",
      "46.666666666666664 % ANALIZADO\n",
      "53.333333333333336 % ANALIZADO\n",
      "60.0 % ANALIZADO\n",
      "66.66666666666666 % ANALIZADO\n",
      "73.33333333333333 % ANALIZADO\n",
      "80.0 % ANALIZADO\n",
      "86.66666666666667 % ANALIZADO\n",
      "93.33333333333333 % ANALIZADO\n"
     ]
    }
   ],
   "source": [
    "words = {}\n",
    "for year in years:\n",
    "    words[year] = {}\n",
    "    for index in indexes:\n",
    "        words[year][index] = []\n",
    "        \n",
    "for index, data in df.iterrows():\n",
    "    text = data[\"text\"].lower()\n",
    "    doc = nlp(text)\n",
    "    for token in doc:\n",
    "        if not token.is_punct and not token.is_space:\n",
    "            words[data[\"year\"]][f\"{data['group']} - {data['gender']}\"].append(str(token))\n",
    "            words[data[\"year\"]][f\"{data['group']}\"].append(str(token))\n",
    "    if (index % 10000 == 0):\n",
    "        print(index / 150000 * 100, \"% ANALIZADO\")"
   ]
  },
  {
   "cell_type": "code",
   "execution_count": 14,
   "metadata": {},
   "outputs": [],
   "source": [
    "freq = {}\n",
    "for year in years:\n",
    "    freq[year] = {}\n",
    "    for index in indexes:\n",
    "        freq[year][index] = []\n",
    "for year in words:\n",
    "    for group_gender in freq[year]:\n",
    "        freq[year][group_gender] = Counter(words[year][group_gender])"
   ]
  },
  {
   "cell_type": "code",
   "execution_count": 21,
   "metadata": {},
   "outputs": [],
   "source": [
    "for year in years:\n",
    "    for index in indexes:\n",
    "        freq[year][index][\"nwords\"] = len(words[year][index])"
   ]
  },
  {
   "cell_type": "code",
   "execution_count": 29,
   "metadata": {},
   "outputs": [
    {
     "data": {
      "text/plain": [
       "104"
      ]
     },
     "execution_count": 29,
     "metadata": {},
     "output_type": "execute_result"
    }
   ],
   "source": [
    "freq[2008][\"PP\"][\"vivienda\"]"
   ]
  },
  {
   "cell_type": "code",
   "execution_count": 30,
   "metadata": {},
   "outputs": [],
   "source": [
    "import pickle\n",
    "dir = r\"\"\n",
    "with open(dir,\"wb\") as file:\n",
    "    pickle.dump(freq, file)"
   ]
  },
  {
   "cell_type": "code",
   "execution_count": 20,
   "metadata": {},
   "outputs": [
    {
     "data": {
      "text/plain": [
       "122"
      ]
     },
     "execution_count": 20,
     "metadata": {},
     "output_type": "execute_result"
    }
   ],
   "source": [
    "freq[2009][\"PP\"][\"vivienda\"]"
   ]
  },
  {
   "cell_type": "code",
   "execution_count": 15,
   "metadata": {},
   "outputs": [],
   "source": [
    "terminos_inclusivos = [[\"españoles\", \"españolas\"], [\"ciudadanos\", \"ciudadanas\"], [\"ciudadanos\", \"ciudadanía\"], [\"profesores\", \"profesoras\"], [\"profesores\", \"profesorado\"], [\"alumno\", \"alumna\"], [\"alumnos\", \"alumnas\"], [\"alumnos\", \"alumnado\"], [\"niño\", \"niña\"], [\"niños\", \"niñas\"], [\"niños\", \"infancia\"], [\"jueces\", \"juezas\"], [\"jueces\", \"judicatura\"], [\"alcaldes\", \"alcaldesas\"], [\"diputados\", \"diputadas\"], [\"médico\", \"médica\"], [\"médicos\", \"médicas\"], [\"abogado\", \"abogada\"], [\"abogados\", \"abogadas\"], [\"padres\", \"madres\"], [\"padres\", \"progenitores\"]]"
   ]
  }
 ],
 "metadata": {
  "kernelspec": {
   "display_name": "nlp",
   "language": "python",
   "name": "python3"
  },
  "language_info": {
   "codemirror_mode": {
    "name": "ipython",
    "version": 3
   },
   "file_extension": ".py",
   "mimetype": "text/x-python",
   "name": "python",
   "nbconvert_exporter": "python",
   "pygments_lexer": "ipython3",
   "version": "3.12.2"
  }
 },
 "nbformat": 4,
 "nbformat_minor": 2
}
